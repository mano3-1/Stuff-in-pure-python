{
  "nbformat": 4,
  "nbformat_minor": 0,
  "metadata": {
    "colab": {
      "name": "neural network from scratch.ipynb",
      "provenance": []
    },
    "kernelspec": {
      "name": "python3",
      "display_name": "Python 3"
    },
    "language_info": {
      "name": "python"
    }
  },
  "cells": [
    {
      "cell_type": "code",
      "metadata": {
        "id": "NPr1y2swW08g"
      },
      "source": [
        "import numpy as np\n",
        "import math"
      ],
      "execution_count": 1,
      "outputs": []
    },
    {
      "cell_type": "code",
      "metadata": {
        "id": "-C9c5fORW9lA"
      },
      "source": [
        "class neural_network:\n",
        "    def __init__(self, lr):\n",
        "        self.w1 = np.random.randn(5,3)\n",
        "        self.b1 = np.random.rand(5,1)\n",
        "        self.w2 = np.random.rand(2,5)\n",
        "        self.b2 = np.random.rand(2,1)\n",
        "        self.lr = lr\n",
        "\n",
        "    def forward_pass(self, input_vector):\n",
        "        self.a1 = np.matmul(self.w1, input_vector.reshape(3,1))+self.b1\n",
        "        self.a2 = np.matmul(self.w2, self.a1.reshape(5,1))+self.b2\n",
        "        self.a2 = self.a2.reshape(2,1)\n",
        "        return self.a2\n",
        "\n",
        "    def backward_pass(self, y, input_vector):\n",
        "        #calculation of w2 gradients and b2 grads\n",
        "        self.w2_grads = 2*(self.a2-y)*(self.a1.reshape(1,5))\n",
        "        self.b2_grads = 2*(self.a2-y)\n",
        "\n",
        "        #calculation of w1 and b2 grads\n",
        "        self.w1_grads = np.matmul(np.transpose(self.w2), 2*(self.a2-y))*input_vector.reshape(1,3)\n",
        "        self.b1_grads = np.matmul(np.transpose(self.w2), 2*(self.a2-y))\n",
        "\n",
        "        #updation\n",
        "        self.w1 = self.w1 - self.lr*self.w1_grads\n",
        "        self.w2 = self.w2 - self.lr*self.w2_grads\n",
        "        self.b1 = self.b1 - self.lr*self.b1_grads\n",
        "        self.b2 = self.b2 - self.lr*self.b2_grads\n",
        "\n",
        "\n",
        "        \n",
        "        "
      ],
      "execution_count": 24,
      "outputs": []
    },
    {
      "cell_type": "code",
      "metadata": {
        "id": "m50BkZ5TmAJ3"
      },
      "source": [
        "#create a dataset\n",
        "import random\n",
        "x1 = [i for i in range(1000)]\n",
        "x_mean = np.mean(x1)\n",
        "x_std = np.std(x1)\n",
        "x1 = (x1-x_mean)/(x_std)\n",
        "x2 = [i for i in range(1000)]\n",
        "random.shuffle(x2)\n",
        "x2 = (x2-x_mean)/(x_std)\n",
        "x3 = [i for i in range(1000)]\n",
        "x3 = (x3-x_mean)/(x_std)\n",
        "\n",
        "random.shuffle(x3)\n",
        "y1 = [0.2*X1+ 0.03*X2-0.4*X3 for X1,X2,X3 in zip(x1, x2, x3)]\n",
        "y1_mean = np.mean(y1)\n",
        "y1_std = np.std(y1)\n",
        "y1 = (y1-y1_mean)/y1_std\n",
        "y2 = [0.1*X1+ 0.02*X2-0.2*X3 for X1,X2,X3 in zip(x1, x2, x3)]\n",
        "y2_mean = np.mean(y2)\n",
        "y2_std = np.std(y2)\n",
        "y2 = (y2-y2_mean)/y2_std"
      ],
      "execution_count": 36,
      "outputs": []
    },
    {
      "cell_type": "code",
      "metadata": {
        "colab": {
          "base_uri": "https://localhost:8080/"
        },
        "id": "4WVayFarmfz0",
        "outputId": "a92836bb-6c32-4c44-e2b5-1fc0bb19c01a"
      },
      "source": [
        "neuralnet = neural_network(0.0001)\n",
        "for epoch in range(50):\n",
        "    step = 0\n",
        "    l = 0\n",
        "    for X1,X2,X3,Y1,Y2 in zip(x1,x2,x3,y1,y2):\n",
        "        pred = neuralnet.forward_pass(np.asarray([X1,X2,X3]))\n",
        "        loss = np.mean(((pred-np.asarray([Y1,Y2]).reshape(2,1))**2))\n",
        "        \n",
        "        neuralnet.backward_pass(np.asarray([Y1,Y2]).reshape(2,1), np.asarray([X1,X2,X3]).reshape(3,1))\n",
        "        l+=loss\n",
        "        step+=1\n",
        "    l/=step\n",
        "    print(\"epochs : {} | loss : {}\".format(epoch, l))"
      ],
      "execution_count": 39,
      "outputs": [
        {
          "output_type": "stream",
          "name": "stdout",
          "text": [
            "epochs : 0 | loss : 2.0333661320259035\n",
            "epochs : 1 | loss : 0.4860897883539838\n",
            "epochs : 2 | loss : 0.22829223815558938\n",
            "epochs : 3 | loss : 0.10872553822080819\n",
            "epochs : 4 | loss : 0.05192102838477662\n",
            "epochs : 5 | loss : 0.0256281784274595\n",
            "epochs : 6 | loss : 0.013398824695053022\n",
            "epochs : 7 | loss : 0.007477033194915406\n",
            "epochs : 8 | loss : 0.004426762466186042\n",
            "epochs : 9 | loss : 0.002749506773611848\n",
            "epochs : 10 | loss : 0.0017734205040912075\n",
            "epochs : 11 | loss : 0.0011794963062119188\n",
            "epochs : 12 | loss : 0.0008054460733940088\n",
            "epochs : 13 | loss : 0.0005632074172515424\n",
            "epochs : 14 | loss : 0.0004024640064633319\n",
            "epochs : 15 | loss : 0.0002933550002038503\n",
            "epochs : 16 | loss : 0.00021766488466110905\n",
            "epochs : 17 | loss : 0.00016404513733878423\n",
            "epochs : 18 | loss : 0.00012529752843659742\n",
            "epochs : 19 | loss : 9.677804915579245e-05\n",
            "epochs : 20 | loss : 7.543810877580827e-05\n",
            "epochs : 21 | loss : 5.923945657997085e-05\n",
            "epochs : 22 | loss : 4.67927731709756e-05\n",
            "epochs : 23 | loss : 3.7131976687931514e-05\n",
            "epochs : 24 | loss : 2.957171476497321e-05\n",
            "epochs : 25 | loss : 2.3616284554060157e-05\n",
            "epochs : 26 | loss : 1.890061632964851e-05\n",
            "epochs : 27 | loss : 1.515143241974995e-05\n",
            "epochs : 28 | loss : 1.2161236430790557e-05\n",
            "epochs : 29 | loss : 9.770563739443955e-06\n",
            "epochs : 30 | loss : 7.855628597491296e-06\n",
            "epochs : 31 | loss : 6.319554819408555e-06\n",
            "epochs : 32 | loss : 5.086029587220693e-06\n",
            "epochs : 33 | loss : 4.094627628430495e-06\n",
            "epochs : 34 | loss : 3.2973099149841e-06\n",
            "epochs : 35 | loss : 2.6557645557094404e-06\n",
            "epochs : 36 | loss : 2.1393629317991414e-06\n",
            "epochs : 37 | loss : 1.7235730156418385e-06\n",
            "epochs : 38 | loss : 1.3887175955409397e-06\n",
            "epochs : 39 | loss : 1.1189961098983225e-06\n",
            "epochs : 40 | loss : 9.017101672371115e-07\n",
            "epochs : 41 | loss : 7.266478670493842e-07\n",
            "epochs : 42 | loss : 5.855928263155562e-07\n",
            "epochs : 43 | loss : 4.7193170255743656e-07\n",
            "epochs : 44 | loss : 3.8033986629233597e-07\n",
            "epochs : 45 | loss : 3.065292992233876e-07\n",
            "epochs : 46 | loss : 2.4704617571740215e-07\n",
            "epochs : 47 | loss : 1.991081977745359e-07\n",
            "epochs : 48 | loss : 1.6047379061186708e-07\n",
            "epochs : 49 | loss : 1.2933686540595505e-07\n"
          ]
        }
      ]
    },
    {
      "cell_type": "code",
      "metadata": {
        "colab": {
          "base_uri": "https://localhost:8080/"
        },
        "id": "_e-n3-HWnfkN",
        "outputId": "dbb2b24f-2638-4c8b-cb46-c2315f891304"
      },
      "source": [
        "#inference\n",
        "X1 = random.choice([i for i in range(1000,1200)])\n",
        "X2 = random.choice([i for i in range(1000,1200)])\n",
        "X3 = random.choice([i for i in range(1000,1200)])\n",
        "X1 = (X1-x_mean)/x_std\n",
        "X2 = (X2-x_mean)/x_std\n",
        "X3 = (X3-x_mean)/x_std\n",
        "X = np.asarray([X1,X2,X3])\n",
        "Y_pred = neuralnet.forward_pass(X)\n",
        "Y1_pred = Y_pred[0,0]*y1_std+y1_mean\n",
        "Y2_pred = Y_pred[1,0]*y2_std+y2_mean\n",
        "Y1 = 0.2*X1+ 0.03*X2-0.4*X3\n",
        "Y2 = 0.1*X1+ 0.02*X2-0.2*X3\n",
        "print(\"ground truth : \",Y1,Y2)\n",
        "print(\"prediction : \", Y1_pred, Y2_pred)\n"
      ],
      "execution_count": 45,
      "outputs": [
        {
          "output_type": "stream",
          "name": "stdout",
          "text": [
            "ground truth :  -0.47491124838299414 -0.22648307683927316\n",
            "prediction :  -0.4748264987154295 -0.2265275793050307\n"
          ]
        }
      ]
    },
    {
      "cell_type": "code",
      "metadata": {
        "id": "BUcsANL6rae3"
      },
      "source": [
        ""
      ],
      "execution_count": null,
      "outputs": []
    }
  ]
}